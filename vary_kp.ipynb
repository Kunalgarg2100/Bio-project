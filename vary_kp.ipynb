{
 "cells": [
  {
   "cell_type": "markdown",
   "metadata": {},
   "source": [
    "# Variation of Stability Ratio ($S_r$) with Binding Constant of the Polymerase ($k_p$)"
   ]
  },
  {
   "cell_type": "markdown",
   "metadata": {},
   "source": [
    "## Imports"
   ]
  },
  {
   "cell_type": "code",
   "execution_count": 2,
   "metadata": {},
   "outputs": [],
   "source": [
    "import scipy.io\n",
    "import cmath\n",
    "import numpy as np\n",
    "import matplotlib.pyplot as plt\n",
    "from sklearn.linear_model import LinearRegression\n",
    "from matplotlib.offsetbox import AnchoredText\n",
    "import matplotlib.ticker as mticker\n",
    "from prettytable import PrettyTable\n",
    "%matplotlib inline"
   ]
  },
  {
   "cell_type": "markdown",
   "metadata": {},
   "source": [
    "## Fixed Parameters"
   ]
  },
  {
   "cell_type": "code",
   "execution_count": 1,
   "metadata": {},
   "outputs": [],
   "source": [
    "kdeg = 10**(-5)\n",
    "n = 3\n",
    "P = 100 * 10**(-9)\n",
    "kl = 0.3 * 10**(-9)\n",
    "a = 3.3\n",
    "kr = 2 * 10**(11)"
   ]
  },
  {
   "cell_type": "markdown",
   "metadata": {},
   "source": [
    "## Calculating values of $S_r$ for different values of $k_r$"
   ]
  },
  {
   "cell_type": "code",
   "execution_count": 4,
   "metadata": {},
   "outputs": [],
   "source": [
    "x_ticks = []\n",
    "kp_val = []\n",
    "x_know = []\n",
    "for j in range(6,13):\n",
    "    x_ticks.append(\"$10^{\"+str(j)+\"}$\")\n",
    "\n",
    "x  = []\n",
    "itr1 = []\n",
    "for j in range(28,49):\n",
    "    i = j/4\n",
    "    kp = 10**(i)\n",
    "    kp_val.append(kp)\n",
    "    a1 = kdeg*kr\n",
    "    b = (1+kp*P)*kdeg\n",
    "    c = -n*kp*P*kl*a\n",
    "    d = (b**2) - (4*a1*c)\n",
    "    R = (-b+cmath.sqrt(d))/(2*a1)\n",
    "    R = np.real(R)\n",
    "#     print(R)\n",
    "    Sunreg = -kdeg\n",
    "    Sauto = -(n*kp*P*kl*a*kr)/((1+kp*P+kr*R)**2) - kdeg\n",
    "    Sr = Sauto/Sunreg\n",
    "    x.append(Sr)\n",
    "    itr1.append(i)"
   ]
  },
  {
   "cell_type": "markdown",
   "metadata": {},
   "source": [
    "## Plotting Graph"
   ]
  },
  {
   "cell_type": "code",
   "execution_count": 6,
   "metadata": {},
   "outputs": [
    {
     "data": {
      "image/png": "[encoded data removed]",
      "text/plain": [
       "<matplotlib.figure.Figure at 0x7fbd236e5240>"
      ]
     },
     "metadata": {},
     "output_type": "display_data"
    }
   ],
   "source": [
    "fig = plt.figure(figsize=(7,5))\n",
    "ax = plt.subplot(111)\n",
    "locs = ax.get_xticks()\n",
    "labels = ax.get_xticklabels()\n",
    "ax.set_xticklabels(x_ticks)\n",
    "ax.set_xlabel('$k_p (s^{-1})$')\n",
    "ax.set_ylabel('$S_{r}$')\n",
    "ax.plot(itr1, x,linestyle='dashed')\n",
    "plt.title(\"Stability Ratio vs Binding Constant of the Polymerase\");"
   ]
  },
  {
   "cell_type": "markdown",
   "metadata": {},
   "source": [
    "## Summary Table"
   ]
  },
  {
   "cell_type": "code",
   "execution_count": 7,
   "metadata": {},
   "outputs": [
    {
     "name": "stdout",
     "output_type": "stream",
     "text": [
      "+---+-------+-------+\n",
      "|   |  k_p  |  S_r  |\n",
      "+---+-------+-------+\n",
      "| 1 |  10^7 |  2.0  |\n",
      "| 2 |  10^8 |  2.0  |\n",
      "| 3 |  10^9 | 1.999 |\n",
      "| 4 | 10^10 | 1.996 |\n",
      "| 5 | 10^11 | 1.987 |\n",
      "| 6 | 10^12 |  1.96 |\n",
      "+---+-------+-------+\n"
     ]
    }
   ],
   "source": [
    "t = PrettyTable([\"\",\"k_p\",\"S_r\"])\n",
    "iternum = 0\n",
    "tp = 6\n",
    "for j in range(0,24,4):\n",
    "    iternum +=1\n",
    "    tp += 1\n",
    "    t.add_row([iternum, \"10^\"+str(tp), round(x[j],3) ])\n",
    "print(t)"
   ]
  },
  {
   "cell_type": "markdown",
   "metadata": {},
   "source": [
    "## Conclusion"
   ]
  },
  {
   "cell_type": "markdown",
   "metadata": {},
   "source": [
    "We can infer from Figure and Table that stability ratio doesn’t vary much with value of $k_p$ as the value just drop from $2$ to $1.95$. Thus, the **stability ratio of both systems seems very little dependent on the value of $k_p$**."
   ]
  }
 ],
 "metadata": {
  "kernelspec": {
   "display_name": "Python 3",
   "language": "python",
   "name": "python3"
  },
  "language_info": {
   "codemirror_mode": {
    "name": "ipython",
    "version": 3
   },
   "file_extension": ".py",
   "mimetype": "text/x-python",
   "name": "python",
   "nbconvert_exporter": "python",
   "pygments_lexer": "ipython3",
   "version": "3.5.2"
  }
 },
 "nbformat": 4,
 "nbformat_minor": 2
}
