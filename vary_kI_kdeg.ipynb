{
 "cells": [
  {
   "cell_type": "markdown",
   "metadata": {},
   "source": [
    "# Variation of Stability Ratio ($S_r$) with Isomerization Rate ($k_I$ ) and Degradation Rate of Repressor ($k_{deg}$)"
   ]
  },
  {
   "cell_type": "markdown",
   "metadata": {},
   "source": [
    "## Imports"
   ]
  },
  {
   "cell_type": "code",
   "execution_count": 2,
   "metadata": {},
   "outputs": [],
   "source": [
    "import scipy.io\n",
    "import cmath\n",
    "import numpy as np\n",
    "import matplotlib.pyplot as plt\n",
    "from sklearn.linear_model import LinearRegression\n",
    "from matplotlib.offsetbox import AnchoredText\n",
    "import matplotlib.ticker as mticker\n",
    "from prettytable import PrettyTable\n",
    "%matplotlib inline"
   ]
  },
  {
   "cell_type": "markdown",
   "metadata": {},
   "source": [
    "## Fixed Parameters"
   ]
  },
  {
   "cell_type": "code",
   "execution_count": 1,
   "metadata": {},
   "outputs": [],
   "source": [
    "n = 3\n",
    "kp = 1.5 * 10**(10)\n",
    "P = 100 * 10**(-9)\n",
    "a = 3.3\n",
    "kr = 2 * 10^(11)"
   ]
  },
  {
   "cell_type": "markdown",
   "metadata": {},
   "source": [
    "## Calculating values of $S_r$ for different values of $k_r$"
   ]
  },
  {
   "cell_type": "code",
   "execution_count": 4,
   "metadata": {},
   "outputs": [],
   "source": [
    "x_ticks = []\n",
    "kl_val = []\n",
    "kdeg_p = [10**(-2),10**(-4),10**(-6)]\n",
    "x_know = []\n",
    "x_array = []\n",
    "itr1_array = []\n",
    "for j in range(6,-2,-1):\n",
    "    x_ticks.append(10**(-j))\n",
    "\n",
    "for kdeg in kdeg_p:\n",
    "    x  = []\n",
    "    itr1 = []\n",
    "    for j in range(20,-5,-1):\n",
    "        i = -j/4\n",
    "        kl = 10**(i)\n",
    "        kl_val.append(kl)\n",
    "        a1 = kdeg*kr\n",
    "        b = (1+kp*P)*kdeg\n",
    "        c = -n*kp*P*kl*a\n",
    "        d = (b**2) - (4*a1*c)\n",
    "        R = (-b+cmath.sqrt(d))/(2*a1)\n",
    "        R = np.real(R)\n",
    "#         print(R)\n",
    "        Sunreg = -kdeg\n",
    "        Sauto = -(n*kp*P*kl*a*kr)/((1+kp*P+kr*R)**2) - kdeg\n",
    "        Sr = Sauto/Sunreg\n",
    "        x.append(Sr)\n",
    "        itr1.append(i)\n",
    "    x_array.append(x)\n",
    "    itr1_array.append(itr1)"
   ]
  },
  {
   "cell_type": "markdown",
   "metadata": {},
   "source": [
    "## Plotting Graph for variation of Stability Ratio ($S_r$) with Isomerization Rate ($k_I$ )"
   ]
  },
  {
   "cell_type": "code",
   "execution_count": 7,
   "metadata": {},
   "outputs": [
    {
     "data": {
      "image/png": "[encoded data removed]",
      "text/plain": [
       "<matplotlib.figure.Figure at 0x7f3bab805ba8>"
      ]
     },
     "metadata": {},
     "output_type": "display_data"
    }
   ],
   "source": [
    "fig = plt.figure(figsize=(7,5))\n",
    "ax = plt.subplot(111)\n",
    "locs = ax.get_xticks()\n",
    "labels = ax.get_xticklabels()\n",
    "ax.set_xticklabels(x_ticks)\n",
    "ax.set_xlabel('$k_I (s^{-1})$')\n",
    "ax.set_ylabel('$S_{r}$')\n",
    "ax.plot(itr1_array[1], x_array[1], label=\"$k_{deg}=1e-4$\",linestyle='dashed')\n",
    "plt.title(\"Stability Ratio vs Isomerization Rate\");"
   ]
  },
  {
   "cell_type": "markdown",
   "metadata": {},
   "source": [
    "## Summary Table"
   ]
  },
  {
   "cell_type": "code",
   "execution_count": 8,
   "metadata": {},
   "outputs": [
    {
     "name": "stdout",
     "output_type": "stream",
     "text": [
      "+---+--------+-------+\n",
      "|   |  k_I   |  S_r  |\n",
      "+---+--------+-------+\n",
      "| 1 | 1e-05  |  1.02 |\n",
      "| 2 | 0.0001 | 1.148 |\n",
      "| 3 | 0.001  | 1.504 |\n",
      "| 4 |  0.01  | 1.802 |\n",
      "| 5 |  0.1   | 1.932 |\n",
      "| 6 |   1    | 1.978 |\n",
      "| 7 |   10   | 1.993 |\n",
      "+---+--------+-------+\n"
     ]
    }
   ],
   "source": [
    "t = PrettyTable([\"\",\"k_I\",\"S_r\"])\n",
    "iternum = 0\n",
    "for j in range(0,25,4):\n",
    "    iternum +=1\n",
    "    t.add_row([iternum, x_ticks[iternum], round(x_array[1][j],3) ])\n",
    "#     print(\"\\\\textbf{\" + str(iternum) + \"}  & \" + str()+ \" & \"+  str() + \"\\\\\\\\ \\hline\")\n",
    "print(t)"
   ]
  },
  {
   "cell_type": "markdown",
   "metadata": {},
   "source": [
    "## Conclusion"
   ]
  },
  {
   "cell_type": "markdown",
   "metadata": {},
   "source": [
    "It can be inferred from Figure and Table that the value of Stability ratio increases and saturates to $2$, as we increase the isomerization rate. Hence, **autoregulated system is much more stable than unregulated if we set the value of isomerization rate accordingly**."
   ]
  },
  {
   "cell_type": "markdown",
   "metadata": {},
   "source": [
    "## Plotting Graph for variation of Stability Ratio ($S_r$) with Degradation Rate of Repressor ($k_{deg}$)"
   ]
  },
  {
   "cell_type": "code",
   "execution_count": 11,
   "metadata": {},
   "outputs": [
    {
     "data": {
      "image/png": "[encoded data removed]",
      "text/plain": [
       "<matplotlib.figure.Figure at 0x7f3bab6ff6a0>"
      ]
     },
     "metadata": {},
     "output_type": "display_data"
    }
   ],
   "source": [
    "fig = plt.figure(figsize=(7,5))\n",
    "ax = plt.subplot(111)\n",
    "locs = ax.get_xticks()\n",
    "labels = ax.get_xticklabels()\n",
    "ax.set_xticklabels(x_ticks)\n",
    "ax.set_xlabel('$k_I (s^{-1})$')\n",
    "ax.set_ylabel('$S_{r}$')\n",
    "ax.plot(itr1_array[0], x_array[0], label=\"$k_{deg}=1e-2$\",linestyle='dashed')\n",
    "ax.plot(itr1_array[1], x_array[1], label=\"$k_{deg}=1e-4$\",linestyle='dashed')\n",
    "ax.plot(itr1_array[2], x_array[2], label=\"$k_{deg}=1e-6$\",linestyle='dashed')\n",
    "plt.title(\"Stability Ratio vs Isomerization Rate\")\n",
    "plt.legend();"
   ]
  },
  {
   "cell_type": "markdown",
   "metadata": {},
   "source": [
    "## Summary Table"
   ]
  },
  {
   "cell_type": "code",
   "execution_count": 13,
   "metadata": {},
   "outputs": [
    {
     "name": "stdout",
     "output_type": "stream",
     "text": [
      "+---+--------+-----------------------+-----------------------+--------------------+\n",
      "|   |  k_I   | $S_r(k_deg = 1e − 2)$ | $S_r(k_deg = 1e − 4)$ | $(k_deg = 1e − 6)$ |\n",
      "+---+--------+-----------------------+-----------------------+--------------------+\n",
      "| 1 | 1e-05  |         1.504         |          1.02         |        1.0         |\n",
      "| 2 | 0.0001 |         1.802         |         1.148         |       1.002        |\n",
      "| 3 | 0.001  |         1.932         |         1.504         |        1.02        |\n",
      "| 4 |  0.01  |         1.978         |         1.802         |       1.148        |\n",
      "| 5 |  0.1   |         1.993         |         1.932         |       1.504        |\n",
      "| 6 |   1    |         1.998         |         1.978         |       1.802        |\n",
      "| 7 |   10   |         1.999         |         1.993         |       1.932        |\n",
      "+---+--------+-----------------------+-----------------------+--------------------+\n"
     ]
    }
   ],
   "source": [
    "t = PrettyTable([\"\",\"k_I\",\"$S_r(k_deg = 1e − 2)$\",\"$S_r(k_deg = 1e − 4)$\",\"$(k_deg = 1e − 6)$\"])\n",
    "iternum = 0\n",
    "for j in range(0,25,4):\n",
    "    iternum +=1\n",
    "    t.add_row([iternum, x_ticks[iternum], round(x_array[2][j],3), round(x_array[1][j],3), round(x_array[0][j],3) ])\n",
    "print(t)"
   ]
  },
  {
   "cell_type": "markdown",
   "metadata": {},
   "source": [
    "## Conclusion"
   ]
  },
  {
   "cell_type": "markdown",
   "metadata": {},
   "source": [
    "We can infer from above Figure and Table that stability ratio is higher when value of $k_deg$ is lower. Thus, the **stability of the system decreases when the repressor has short half-life if we keep all the other parameters constant**."
   ]
  }
 ],
 "metadata": {
  "kernelspec": {
   "display_name": "Python 3",
   "language": "python",
   "name": "python3"
  },
  "language_info": {
   "codemirror_mode": {
    "name": "ipython",
    "version": 3
   },
   "file_extension": ".py",
   "mimetype": "text/x-python",
   "name": "python",
   "nbconvert_exporter": "python",
   "pygments_lexer": "ipython3",
   "version": "3.5.2"
  }
 },
 "nbformat": 4,
 "nbformat_minor": 2
}
